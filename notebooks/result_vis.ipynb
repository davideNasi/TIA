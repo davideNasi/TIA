{
 "cells": [
  {
   "cell_type": "code",
   "execution_count": 1,
   "metadata": {
    "collapsed": true,
    "ExecuteTime": {
     "end_time": "2023-05-05T08:11:00.486323537Z",
     "start_time": "2023-05-05T08:10:59.902502923Z"
    }
   },
   "outputs": [],
   "source": [
    "import pandas as pd"
   ]
  },
  {
   "cell_type": "code",
   "execution_count": 2,
   "outputs": [],
   "source": [
    "pred_file=\"../results/train_with_unlabelled_target/results/wolves/Main/comp4_det_test_w.txt\"\n",
    "img_folder=\"../data/wolves/park2_test/JPEGImages/\""
   ],
   "metadata": {
    "collapsed": false,
    "ExecuteTime": {
     "end_time": "2023-05-05T08:11:06.588067294Z",
     "start_time": "2023-05-05T08:11:06.218671395Z"
    }
   }
  },
  {
   "cell_type": "code",
   "execution_count": 8,
   "outputs": [
    {
     "data": {
      "text/plain": "                                     1      2       3      4       5       6\n0      image23-01-14_20-43-34-12_01963  0.145  1855.1    1.0  1919.8   124.0\n1      image23-01-14_20-43-34-12_01963  0.133  1859.3    1.0  1919.8    14.1\n2      image23-01-14_20-43-34-12_01963  0.100   363.0  578.4   443.9   637.7\n3      image23-01-14_20-43-34-12_01963  0.079   359.2  545.4   421.4   611.4\n4      image23-01-14_20-43-34-12_01963  0.075     1.1    1.0    26.1     2.8\n...                                ...    ...     ...    ...     ...     ...\n10574  image23-01-13_13-22-15-59_00152  0.000   190.4  522.2   230.6   549.8\n10575  image23-01-13_13-22-15-59_00152  0.000    85.2  820.0   133.8   880.8\n10576  image23-01-13_13-22-15-59_00152  0.000   237.0  496.3   281.3   537.1\n10577  image23-01-13_13-22-15-59_00152  0.000   209.9  517.7   235.7   540.3\n10578  image23-01-13_13-22-15-59_00152  0.000   141.6  951.1   206.8  1023.7\n\n[10579 rows x 6 columns]",
      "text/html": "<div>\n<style scoped>\n    .dataframe tbody tr th:only-of-type {\n        vertical-align: middle;\n    }\n\n    .dataframe tbody tr th {\n        vertical-align: top;\n    }\n\n    .dataframe thead th {\n        text-align: right;\n    }\n</style>\n<table border=\"1\" class=\"dataframe\">\n  <thead>\n    <tr style=\"text-align: right;\">\n      <th></th>\n      <th>1</th>\n      <th>2</th>\n      <th>3</th>\n      <th>4</th>\n      <th>5</th>\n      <th>6</th>\n    </tr>\n  </thead>\n  <tbody>\n    <tr>\n      <th>0</th>\n      <td>image23-01-14_20-43-34-12_01963</td>\n      <td>0.145</td>\n      <td>1855.1</td>\n      <td>1.0</td>\n      <td>1919.8</td>\n      <td>124.0</td>\n    </tr>\n    <tr>\n      <th>1</th>\n      <td>image23-01-14_20-43-34-12_01963</td>\n      <td>0.133</td>\n      <td>1859.3</td>\n      <td>1.0</td>\n      <td>1919.8</td>\n      <td>14.1</td>\n    </tr>\n    <tr>\n      <th>2</th>\n      <td>image23-01-14_20-43-34-12_01963</td>\n      <td>0.100</td>\n      <td>363.0</td>\n      <td>578.4</td>\n      <td>443.9</td>\n      <td>637.7</td>\n    </tr>\n    <tr>\n      <th>3</th>\n      <td>image23-01-14_20-43-34-12_01963</td>\n      <td>0.079</td>\n      <td>359.2</td>\n      <td>545.4</td>\n      <td>421.4</td>\n      <td>611.4</td>\n    </tr>\n    <tr>\n      <th>4</th>\n      <td>image23-01-14_20-43-34-12_01963</td>\n      <td>0.075</td>\n      <td>1.1</td>\n      <td>1.0</td>\n      <td>26.1</td>\n      <td>2.8</td>\n    </tr>\n    <tr>\n      <th>...</th>\n      <td>...</td>\n      <td>...</td>\n      <td>...</td>\n      <td>...</td>\n      <td>...</td>\n      <td>...</td>\n    </tr>\n    <tr>\n      <th>10574</th>\n      <td>image23-01-13_13-22-15-59_00152</td>\n      <td>0.000</td>\n      <td>190.4</td>\n      <td>522.2</td>\n      <td>230.6</td>\n      <td>549.8</td>\n    </tr>\n    <tr>\n      <th>10575</th>\n      <td>image23-01-13_13-22-15-59_00152</td>\n      <td>0.000</td>\n      <td>85.2</td>\n      <td>820.0</td>\n      <td>133.8</td>\n      <td>880.8</td>\n    </tr>\n    <tr>\n      <th>10576</th>\n      <td>image23-01-13_13-22-15-59_00152</td>\n      <td>0.000</td>\n      <td>237.0</td>\n      <td>496.3</td>\n      <td>281.3</td>\n      <td>537.1</td>\n    </tr>\n    <tr>\n      <th>10577</th>\n      <td>image23-01-13_13-22-15-59_00152</td>\n      <td>0.000</td>\n      <td>209.9</td>\n      <td>517.7</td>\n      <td>235.7</td>\n      <td>540.3</td>\n    </tr>\n    <tr>\n      <th>10578</th>\n      <td>image23-01-13_13-22-15-59_00152</td>\n      <td>0.000</td>\n      <td>141.6</td>\n      <td>951.1</td>\n      <td>206.8</td>\n      <td>1023.7</td>\n    </tr>\n  </tbody>\n</table>\n<p>10579 rows × 6 columns</p>\n</div>"
     },
     "execution_count": 8,
     "metadata": {},
     "output_type": "execute_result"
    }
   ],
   "source": [
    "df = pd.read_csv(pred_file, delimiter=\" \", names=[\"img\",\"prob\",\"\",4,5,6])\n",
    "df"
   ],
   "metadata": {
    "collapsed": false,
    "ExecuteTime": {
     "end_time": "2023-05-05T08:13:58.017517580Z",
     "start_time": "2023-05-05T08:13:57.973334155Z"
    }
   }
  },
  {
   "cell_type": "code",
   "execution_count": null,
   "outputs": [],
   "source": [],
   "metadata": {
    "collapsed": false
   }
  }
 ],
 "metadata": {
  "kernelspec": {
   "display_name": "Python 3",
   "language": "python",
   "name": "python3"
  },
  "language_info": {
   "codemirror_mode": {
    "name": "ipython",
    "version": 2
   },
   "file_extension": ".py",
   "mimetype": "text/x-python",
   "name": "python",
   "nbconvert_exporter": "python",
   "pygments_lexer": "ipython2",
   "version": "2.7.6"
  }
 },
 "nbformat": 4,
 "nbformat_minor": 0
}
